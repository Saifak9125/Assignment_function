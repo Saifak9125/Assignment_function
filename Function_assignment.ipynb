{
 "cells": [
  {
   "cell_type": "markdown",
   "id": "b137fd89-6a37-40c8-b329-c2c62fb1335b",
   "metadata": {},
   "source": [
    "# Assignment: Function"
   ]
  },
  {
   "cell_type": "markdown",
   "id": "6a5a0606-823d-4e9a-8c5b-07e085ea14c7",
   "metadata": {},
   "source": [
    "# Theory Questions:"
   ]
  },
  {
   "cell_type": "markdown",
   "id": "02f61f8f-47dc-4057-9bfd-b587f3fd9e45",
   "metadata": {},
   "source": [
    "## 1. What is the difference between a function and a method in Python?"
   ]
  },
  {
   "cell_type": "markdown",
   "id": "a0aca26e-d8e9-4cfb-87fb-814839b5a5c2",
   "metadata": {},
   "source": [
    "### Function : Function is a block of code that performs a specific task.\n",
    "### -> It is defined independently and can be called anywhere within its scope.\n",
    "### -> Funtion take input as argument and process them, and return a result.\n",
    "### Example"
   ]
  },
  {
   "cell_type": "code",
   "execution_count": 2,
   "id": "49bb1972-8d20-4aa5-bdf4-1858c9243681",
   "metadata": {},
   "outputs": [
    {
     "data": {
      "text/plain": [
       "15"
      ]
     },
     "execution_count": 2,
     "metadata": {},
     "output_type": "execute_result"
    }
   ],
   "source": [
    "# add two integer and return result\n",
    "def mul(a,b): \n",
    "    return a*b\n",
    "mul(3,5)"
   ]
  },
  {
   "cell_type": "markdown",
   "id": "3dcad80f-1dd4-484c-a0de-878269869cc2",
   "metadata": {},
   "source": [
    "### Method: Method is a function that is associated with an object or a class.\n",
    "### -> Methods are called an object or instance of a class, and they often act on the data contained in the object.\n",
    "### -> Method in object-oriented programming have access to the data within the class.\n",
    "### Example"
   ]
  },
  {
   "cell_type": "code",
   "execution_count": 6,
   "id": "76a77e1e-c083-47fe-ad76-8105543de5f9",
   "metadata": {},
   "outputs": [
    {
     "name": "stdout",
     "output_type": "stream",
     "text": [
      "6\n"
     ]
    }
   ],
   "source": [
    "class calculator:\n",
    "    def mul(self,a,b):\n",
    "        return a*b\n",
    "cal = calculator()\n",
    "print(cal.mul(2,3))"
   ]
  },
  {
   "cell_type": "markdown",
   "id": "bc7c4423-ffdc-429e-8fa5-21e8c7756092",
   "metadata": {},
   "source": [
    "## 2. Explain the concept of function arguments and parameters in Python."
   ]
  },
  {
   "cell_type": "markdown",
   "id": "6495b627-292d-4c75-8ef1-7c121b762764",
   "metadata": {},
   "source": [
    "### Argument: A parameter is the variable defined within the parentheses during function definition. Simply they are written when we declare a function. \n",
    "### Example :"
   ]
  },
  {
   "cell_type": "code",
   "execution_count": 8,
   "id": "f641faf7-c5dc-4c4d-95dd-5e9cc73df4be",
   "metadata": {},
   "outputs": [
    {
     "data": {
      "text/plain": [
       "6"
      ]
     },
     "execution_count": 8,
     "metadata": {},
     "output_type": "execute_result"
    }
   ],
   "source": [
    "# here a and b are parameter.\n",
    "\n",
    "def add(a,b):\n",
    "    return a+b\n",
    "add(2,4)"
   ]
  },
  {
   "cell_type": "markdown",
   "id": "42dd4c01-c0a6-4604-880d-059f2046a25e",
   "metadata": {},
   "source": [
    "### Arguments: An argument is a value that is passed to a function when it is called. It might be a variable, value or object passed to a function or method as input. They are written when we are calling the function.\n",
    "\n",
    "### Example:"
   ]
  },
  {
   "cell_type": "code",
   "execution_count": 9,
   "id": "d1b79275-9673-4db2-9c55-4cdda320ceb3",
   "metadata": {},
   "outputs": [
    {
     "data": {
      "text/plain": [
       "6"
      ]
     },
     "execution_count": 9,
     "metadata": {},
     "output_type": "execute_result"
    }
   ],
   "source": [
    "def add(a,b):\n",
    "    return a+b\n",
    "# here 2 and 4 are arguments.\n",
    "add(2,4)"
   ]
  },
  {
   "cell_type": "markdown",
   "id": "82e5200b-6733-4edd-a345-453d25a67e4b",
   "metadata": {},
   "source": [
    "### There are two type of arguments:"
   ]
  },
  {
   "cell_type": "markdown",
   "id": "c372bb96-ba1f-4efd-9d8b-23bfa3607534",
   "metadata": {},
   "source": [
    "## 1. Positional Arguments:"
   ]
  },
  {
   "cell_type": "markdown",
   "id": "88bbbb63-d2a8-4b57-ac15-3bae0d501fc5",
   "metadata": {},
   "source": [
    "### Positional Arguments are needed to be included in proper order i.e the first argument is always listed first when the function is called, second argument needs to be called second and so on.\n",
    "\n",
    "### Example:"
   ]
  },
  {
   "cell_type": "code",
   "execution_count": 12,
   "id": "576c9181-0447-417f-8df9-9023190d9e47",
   "metadata": {},
   "outputs": [
    {
     "data": {
      "text/plain": [
       "5"
      ]
     },
     "execution_count": 12,
     "metadata": {},
     "output_type": "execute_result"
    }
   ],
   "source": [
    "def add(a,b):\n",
    "    return a+b\n",
    "# first 2 will assign\n",
    "# second 3 will assign\n",
    "add(2,3)"
   ]
  },
  {
   "cell_type": "markdown",
   "id": "1e741000-51cb-4dc6-ad6a-9ee8dd67abf8",
   "metadata": {},
   "source": [
    "## Keyword Arguments:"
   ]
  },
  {
   "cell_type": "markdown",
   "id": "0be74f5a-0f79-4c31-af95-f69e3752c792",
   "metadata": {},
   "source": [
    "### Keyword Arguments is an argument passed to a function or method which is preceded by a keyword and an equal to sign. The order of keyword argument with respect to another keyword argument does not matter because the values are being explicitly assigned.\n",
    "\n",
    "### Example:"
   ]
  },
  {
   "cell_type": "code",
   "execution_count": 14,
   "id": "8a2f56be-d6de-49c0-a3d0-e10c905f0fed",
   "metadata": {},
   "outputs": [
    {
     "data": {
      "text/plain": [
       "5"
      ]
     },
     "execution_count": 14,
     "metadata": {},
     "output_type": "execute_result"
    }
   ],
   "source": [
    "def add(a,b):\n",
    "    return a+b\n",
    "# here explixitly assign first value to b\n",
    "# here explixitly assign second value to a\n",
    "add(b=2,a=3)"
   ]
  },
  {
   "cell_type": "markdown",
   "id": "291a73a6-7b66-4559-a5dd-45726b3865b7",
   "metadata": {},
   "source": [
    "## 3. What are the different ways to define and call a function in Python?"
   ]
  },
  {
   "cell_type": "markdown",
   "id": "8332b89a-00ec-480b-8978-ffe8a9bbc895",
   "metadata": {
    "jp-MarkdownHeadingCollapsed": true
   },
   "source": [
    "### Function can be defined and called in various ways depending on the use case."
   ]
  },
  {
   "cell_type": "markdown",
   "id": "23b33c60-41e6-4a0c-9d75-96a66613dfeb",
   "metadata": {},
   "source": [
    "## 1.Standard Function Definition:"
   ]
  },
  {
   "cell_type": "markdown",
   "id": "9c983d2b-f50c-4a8a-a17f-b44486bf4d10",
   "metadata": {},
   "source": [
    "### Function is defined using the def keyword, followed by the function name and parameters. The funtion can be called by its name.\n",
    "\n",
    "### Example: "
   ]
  },
  {
   "cell_type": "code",
   "execution_count": 17,
   "id": "b233054f-6904-4084-bc13-03466a4e90f7",
   "metadata": {},
   "outputs": [
    {
     "data": {
      "text/plain": [
       "'Hello, Aman'"
      ]
     },
     "execution_count": 17,
     "metadata": {},
     "output_type": "execute_result"
    }
   ],
   "source": [
    "# Define a function\n",
    "\n",
    "def greet(name):\n",
    "    return f\"Hello, {name}\"\n",
    "greet(\"Aman\")"
   ]
  },
  {
   "cell_type": "markdown",
   "id": "ea6537c2-c4db-4591-9dda-734d8147d2af",
   "metadata": {},
   "source": [
    "## 2. Default Parameters:"
   ]
  },
  {
   "cell_type": "markdown",
   "id": "4a1cb365-92cc-4485-b3a8-8b1ea6fab33c",
   "metadata": {},
   "source": [
    "### You can set default value for parameters. If the user does not pass any argument, the default value will be used.\n",
    "\n",
    "### Example: "
   ]
  },
  {
   "cell_type": "code",
   "execution_count": 18,
   "id": "60cdf564-8ea7-4578-b1a0-7b2bb50cb133",
   "metadata": {},
   "outputs": [
    {
     "data": {
      "text/plain": [
       "'Hello, Sir'"
      ]
     },
     "execution_count": 18,
     "metadata": {},
     "output_type": "execute_result"
    }
   ],
   "source": [
    "# Define a function with default parameter.\n",
    "\n",
    "def greet(name = \"Sir\"):\n",
    "    return f\"Hello, {name}\"\n",
    "# call without passing any argument\n",
    "greet()"
   ]
  },
  {
   "cell_type": "markdown",
   "id": "c902c9e3-61f2-4e9c-9ab0-cb3707381a77",
   "metadata": {},
   "source": [
    "## 3. Variable-length Arguments:"
   ]
  },
  {
   "cell_type": "markdown",
   "id": "5c3a3c66-4a44-4fa6-aca7-0f93b3aa6945",
   "metadata": {},
   "source": [
    "### Function can accept a variable number of positional argument using *args.\n",
    "\n",
    "### Example:"
   ]
  },
  {
   "cell_type": "code",
   "execution_count": 20,
   "id": "b4cadffc-d650-4471-b75d-82a556467d20",
   "metadata": {},
   "outputs": [
    {
     "data": {
      "text/plain": [
       "15"
      ]
     },
     "execution_count": 20,
     "metadata": {},
     "output_type": "execute_result"
    }
   ],
   "source": [
    "# Define function with *args\n",
    "def add_num(*args):\n",
    "    return sum(args)\n",
    "# call the dunction with multiple arguments.\n",
    "add_num(1,2,3,4,5)    "
   ]
  },
  {
   "cell_type": "markdown",
   "id": "b901b727-06eb-43cd-b57c-234af08f92b0",
   "metadata": {},
   "source": [
    "## 4. Lambda Function:"
   ]
  },
  {
   "cell_type": "markdown",
   "id": "da9bb3eb-39f7-45b2-b479-7a82d0cdd350",
   "metadata": {},
   "source": [
    "### Lambda function are small, anonymous functions defined using the lambda keyword. These are aften used for simple, one-line functions.\n",
    "\n",
    "### Example:"
   ]
  },
  {
   "cell_type": "code",
   "execution_count": 21,
   "id": "dbbf5687-ef63-4f3e-a29d-98dac5e781b5",
   "metadata": {},
   "outputs": [
    {
     "name": "stdout",
     "output_type": "stream",
     "text": [
      "Hello, John\n"
     ]
    }
   ],
   "source": [
    "greet = lambda name : f\"Hello, {name}\"\n",
    "print(greet(\"John\"))"
   ]
  },
  {
   "cell_type": "markdown",
   "id": "da030910-0945-4ea2-a5be-4c174e48cd13",
   "metadata": {},
   "source": [
    "## 4. What is the purpose of the `return` statement in a Python function?"
   ]
  },
  {
   "cell_type": "markdown",
   "id": "78a463bb-bc1b-4af5-9bd7-4628c8927378",
   "metadata": {},
   "source": [
    "### When return statemnet is encountered in a function, it immediatly exits the function and optionally returns a value to the caller.The value that is return can be of any data type.\n",
    "\n",
    "### Example:"
   ]
  },
  {
   "cell_type": "code",
   "execution_count": 22,
   "id": "6eae8063-0057-488d-9a53-038e672dcc87",
   "metadata": {},
   "outputs": [
    {
     "data": {
      "text/plain": [
       "8"
      ]
     },
     "execution_count": 22,
     "metadata": {},
     "output_type": "execute_result"
    }
   ],
   "source": [
    "def mul(a,b):\n",
    "    return a*b\n",
    "# return the multiplication of 2 and 4\n",
    "mul(2,4)"
   ]
  },
  {
   "cell_type": "markdown",
   "id": "3d9986f5-384f-41ac-8a3b-f4ccb4fda221",
   "metadata": {},
   "source": [
    "## 5. What are iterators in Python and how do they differ from iterables?"
   ]
  },
  {
   "cell_type": "markdown",
   "id": "e75c34c6-a53c-4f63-89c9-7407b3ac90c6",
   "metadata": {},
   "source": [
    "## Iterators :"
   ]
  },
  {
   "cell_type": "markdown",
   "id": "54e7b738-bc79-45c4-aa52-749f220c6f66",
   "metadata": {},
   "source": [
    "### Iterators in python are the object which represent a stream of data, returned one element at a time. An iterator has two important methods:"
   ]
  },
  {
   "cell_type": "markdown",
   "id": "e49d4717-ff03-4bfe-bc5c-a496d8b055e4",
   "metadata": {},
   "source": [
    "## 1. iter():"
   ]
  },
  {
   "cell_type": "markdown",
   "id": "8b5a6997-9601-4e7f-9b53-b8caaa6aed17",
   "metadata": {},
   "source": [
    "### Returns the iterator object itself. This allows it to be used in a loop. "
   ]
  },
  {
   "cell_type": "markdown",
   "id": "f89a114a-cdc6-41f8-a94a-56a99447c209",
   "metadata": {},
   "source": [
    "## 2. next():"
   ]
  },
  {
   "cell_type": "markdown",
   "id": "14529e68-b78f-4f24-96b6-284ebb48848f",
   "metadata": {},
   "source": [
    "### Returns the next value from the iterator."
   ]
  },
  {
   "cell_type": "code",
   "execution_count": 26,
   "id": "294b35e6-cf28-451b-8103-67d8420eaff8",
   "metadata": {},
   "outputs": [
    {
     "name": "stdout",
     "output_type": "stream",
     "text": [
      "1\n"
     ]
    }
   ],
   "source": [
    "# Example of iter() and next() method\n",
    "\n",
    "my_list = [1,2,3,4,5]\n",
    "num = iter(my_list) # Obtain an iterator from the list\n",
    "\n",
    "print(next(num)) # output: 1"
   ]
  },
  {
   "cell_type": "code",
   "execution_count": 29,
   "id": "048d50fa-1d30-42e1-95a9-55011a21a721",
   "metadata": {},
   "outputs": [
    {
     "name": "stdout",
     "output_type": "stream",
     "text": [
      "2\n"
     ]
    }
   ],
   "source": [
    "print(next(num)) # output: 2"
   ]
  },
  {
   "cell_type": "markdown",
   "id": "5be47e83-0cbf-47f0-ab5d-db201b8f930c",
   "metadata": {},
   "source": [
    "### Itrable must have iter method while iterator must have iter and next method."
   ]
  },
  {
   "cell_type": "markdown",
   "id": "418ea3a4-b6a5-4ad9-b1d7-e46d142af1c1",
   "metadata": {},
   "source": [
    "## 6. Explain the concept of generators in Python and how they are defined."
   ]
  },
  {
   "cell_type": "markdown",
   "id": "1767efdf-b7d8-4d02-8510-2e9f281f3e17",
   "metadata": {},
   "source": [
    "### Generators are a special type of iterable that allows you to create iterators in a more concise and memory efficient way."
   ]
  },
  {
   "cell_type": "markdown",
   "id": "1c7d7073-add0-4a15-bf6a-5197ede18a65",
   "metadata": {},
   "source": [
    "### To define a generator, you create a function like you would normally, but instead of using return, you use yield. Each time the generator's next() method is called (or when you iterate over it), the function runs until it hits a yield statement, which produces a value and pauses the function’s state. The next time the generator is called, it resumes from where it left off."
   ]
  },
  {
   "cell_type": "code",
   "execution_count": 30,
   "id": "4ebb6832-78e7-4725-81f9-2a72b9625c65",
   "metadata": {},
   "outputs": [],
   "source": [
    "#define yield statement intead of return statement\n",
    "def count_up_to(n):\n",
    "    count = 1\n",
    "    while count <= n:\n",
    "        yield count\n",
    "        count += 1"
   ]
  },
  {
   "cell_type": "code",
   "execution_count": 31,
   "id": "6233be47-d436-4942-ba10-8b337c4c209d",
   "metadata": {},
   "outputs": [
    {
     "name": "stdout",
     "output_type": "stream",
     "text": [
      "1\n",
      "2\n",
      "3\n",
      "4\n",
      "5\n"
     ]
    }
   ],
   "source": [
    "counter = count_up_to(5)\n",
    "\n",
    "for number in counter:\n",
    "    print(number)"
   ]
  },
  {
   "cell_type": "markdown",
   "id": "2ceaa0ee-f64b-4ce5-b689-54b28ef02e97",
   "metadata": {},
   "source": [
    "## 7. What are the advantages of using generators over regular functions?"
   ]
  },
  {
   "cell_type": "markdown",
   "id": "ea4b6008-1741-47de-ab5a-56a6a2b6f396",
   "metadata": {},
   "source": [
    "### Generators offer several advantages over regular functions, particularly when dealing with large datasets or streams of data. Here are some key benefits:"
   ]
  },
  {
   "cell_type": "markdown",
   "id": "c62b61e8-a700-4e3f-b888-f314d7bcc53f",
   "metadata": {},
   "source": [
    "## 1. Memory Efficiency:"
   ]
  },
  {
   "cell_type": "markdown",
   "id": "673046c0-edd5-4f4c-b684-22d49ab83678",
   "metadata": {},
   "source": [
    "### Lazy Evaluation: Generators yield one item at a time, so they don’t require memory to store the entire output sequence. This is especially useful for large datasets."
   ]
  },
  {
   "cell_type": "markdown",
   "id": "c0d71b51-2050-4a94-a6b7-1fbfd83b12dc",
   "metadata": {},
   "source": [
    "## 2. Performance:"
   ]
  },
  {
   "cell_type": "markdown",
   "id": "5c826495-6fc3-43a8-90b9-6245e8bec9af",
   "metadata": {},
   "source": [
    "### Reduced Overhead: Generators can start producing values immediately without waiting for the entire dataset to be processed. This can lead to faster responses in programs that need incremental data."
   ]
  },
  {
   "cell_type": "markdown",
   "id": "1a47cb82-0522-46ef-a1d6-36399a6cf115",
   "metadata": {},
   "source": [
    "## 3. Infinite Sequences:"
   ]
  },
  {
   "cell_type": "markdown",
   "id": "cd0ec41f-63e4-46dc-b620-9dcf8027e1f3",
   "metadata": {},
   "source": [
    "### Flexibility: Generators can produce infinite sequences, such as numbers or data points, without the risk of running out of memory. This is impossible with regular functions that return complete lists."
   ]
  },
  {
   "cell_type": "markdown",
   "id": "fe3f6ce6-410e-43e5-a7d6-e29f4eaecb9b",
   "metadata": {},
   "source": [
    "## 8. What is a lambda function in Python and when is it typically used?"
   ]
  },
  {
   "cell_type": "markdown",
   "id": "b6f46650-db26-4f33-ac80-a87e5c9d1f98",
   "metadata": {},
   "source": [
    "### A lambda function in Python is a small, anonymous function defined using the lambda keyword. It can take any number of arguments but has only one expression. The syntax is: \n",
    "### lambda arguments: expression"
   ]
  },
  {
   "cell_type": "markdown",
   "id": "546982fb-fd27-4669-a8f4-69b3fcfd26fe",
   "metadata": {},
   "source": [
    "### When to Use Lambda Functions:"
   ]
  },
  {
   "cell_type": "markdown",
   "id": "f458c36a-eb75-47f2-9d9d-0a36593ec50f",
   "metadata": {},
   "source": [
    "### 1. Short Functions: When you need a quick function for a small task, especially for short-lived operations."
   ]
  },
  {
   "cell_type": "markdown",
   "id": "f8c4091b-6441-4d3e-8773-7591cac3e3a6",
   "metadata": {},
   "source": [
    "### 2. Higher-Order Functions: Commonly used with functions like map(), filter(), and reduce() where you want to apply a simple operation to a list or other iterable."
   ]
  },
  {
   "cell_type": "code",
   "execution_count": 36,
   "id": "6a50cf80-834c-4845-9618-8ba36ab30172",
   "metadata": {},
   "outputs": [
    {
     "data": {
      "text/plain": [
       "4"
      ]
     },
     "execution_count": 36,
     "metadata": {},
     "output_type": "execute_result"
    }
   ],
   "source": [
    "def square(x):\n",
    "    return x**2\n",
    "square(2)"
   ]
  },
  {
   "cell_type": "code",
   "execution_count": 37,
   "id": "8a1c0e10-6729-4c81-b428-8cd08726c595",
   "metadata": {},
   "outputs": [],
   "source": [
    "sq_lambda = lambda x: x**2"
   ]
  },
  {
   "cell_type": "code",
   "execution_count": 39,
   "id": "c3cff9e2-bb0b-45c8-aee8-22348311e213",
   "metadata": {},
   "outputs": [
    {
     "data": {
      "text/plain": [
       "64"
      ]
     },
     "execution_count": 39,
     "metadata": {},
     "output_type": "execute_result"
    }
   ],
   "source": [
    "sq_lambda(8)"
   ]
  },
  {
   "cell_type": "markdown",
   "id": "0d73468d-f2be-4387-81f3-e4fac62eb3c6",
   "metadata": {},
   "source": [
    "## 9. Explain the purpose and usage of the `map()` function in Python."
   ]
  },
  {
   "cell_type": "markdown",
   "id": "16ff184d-6d97-42eb-8c3b-8a1b966b0c95",
   "metadata": {},
   "source": [
    "### The map() function in Python is a built-in function that applies a specified function to each item in an iterable (like a list, tuple, or string) and returns a map object"
   ]
  },
  {
   "cell_type": "markdown",
   "id": "bad7f1ac-021e-4420-89de-983c174cd70c",
   "metadata": {},
   "source": [
    "## Purpose :"
   ]
  },
  {
   "cell_type": "markdown",
   "id": "e85d12e1-dfe7-4465-b40d-2a8923ea6b1f",
   "metadata": {},
   "source": [
    "### The main purpose of map() is to simplify the process of applying a function to every element in an iterable without the need for explicit loops. This makes your code cleaner and often more efficient.\n",
    "\n",
    "### Syntax \n",
    "### map(function, iterable, ...)"
   ]
  },
  {
   "cell_type": "markdown",
   "id": "4e5bf8c8-313d-49f3-a163-52f257c07163",
   "metadata": {},
   "source": [
    "## Usage:"
   ]
  },
  {
   "cell_type": "code",
   "execution_count": 40,
   "id": "ffc112e3-9798-4770-82fc-a505d511ab9f",
   "metadata": {},
   "outputs": [
    {
     "name": "stdout",
     "output_type": "stream",
     "text": [
      "[1, 4, 9, 16]\n"
     ]
    }
   ],
   "source": [
    "#Applying a simple function to each element in a list\n",
    "\n",
    "numbers = [1, 2, 3, 4]\n",
    "squares = map(lambda x: x ** 2, numbers)\n",
    "print(list(squares))"
   ]
  },
  {
   "cell_type": "markdown",
   "id": "9e0fefbd-d54e-44c6-b9cc-af3c2ae474ec",
   "metadata": {},
   "source": [
    "## 10. What is the difference between `map()`, `reduce()`, and `filter()` functions in Python?"
   ]
  },
  {
   "cell_type": "markdown",
   "id": "fd699b69-c078-4b07-9db0-465cd862a6e1",
   "metadata": {},
   "source": [
    "## 1. map() :"
   ]
  },
  {
   "cell_type": "markdown",
   "id": "903a1b85-c388-4763-92c0-9fd0327cd3b7",
   "metadata": {},
   "source": [
    "### Applies a given function to each item in an iterable and returns a map object (an iterator) containing the results.\n",
    "### Transforms data by applying a function to each element.\n",
    "### Can take multiple iterables if the function accepts multiple arguments.\n",
    "\n",
    "### Example:"
   ]
  },
  {
   "cell_type": "code",
   "execution_count": 41,
   "id": "33e2b065-de32-42c5-b2d8-086d323b04c6",
   "metadata": {},
   "outputs": [
    {
     "name": "stdout",
     "output_type": "stream",
     "text": [
      "[1, 4, 9, 16]\n"
     ]
    }
   ],
   "source": [
    "numbers = [1, 2, 3, 4]\n",
    "squared = map(lambda x: x ** 2, numbers)\n",
    "print(list(squared))"
   ]
  },
  {
   "cell_type": "markdown",
   "id": "fb67600e-9a3c-44ef-a070-143d43af1e83",
   "metadata": {},
   "source": [
    "## 2. reduce() :"
   ]
  },
  {
   "cell_type": "markdown",
   "id": "2c9bdb2c-1fa1-4948-af2d-3d86a1a5d961",
   "metadata": {},
   "source": [
    "###  Applies a rolling computation to sequential pairs of values in an iterable, cumulatively reducing it to a single value. This function is not built-in by default in Python 3, but it can be found in the functools module.\n",
    "### Combines elements into a single value using a binary function.\n",
    "\n",
    "### Example :"
   ]
  },
  {
   "cell_type": "code",
   "execution_count": 42,
   "id": "283dba2b-a3fe-4149-a72d-affb5833d516",
   "metadata": {},
   "outputs": [
    {
     "name": "stdout",
     "output_type": "stream",
     "text": [
      "10\n"
     ]
    }
   ],
   "source": [
    "from functools import reduce\n",
    "\n",
    "numbers = [1, 2, 3, 4]\n",
    "sum_result = reduce(lambda x, y: x + y, numbers)\n",
    "print(sum_result)"
   ]
  },
  {
   "cell_type": "markdown",
   "id": "6cebca47-6fab-42a7-947a-1d5b0cbca621",
   "metadata": {},
   "source": [
    "## 3. filter :"
   ]
  },
  {
   "cell_type": "markdown",
   "id": "35b4574b-4c71-43ec-8983-ac63d28e5d60",
   "metadata": {},
   "source": [
    "###  Filters elements from an iterable based on a function that returns True or False. It returns an iterator containing only the elements for which the function returns True.\n",
    "### Selects a subset of data based on a condition.\n",
    "\n",
    "### Example :"
   ]
  },
  {
   "cell_type": "code",
   "execution_count": 43,
   "id": "73f66d43-ea30-4d6c-9c9a-d484b02c3bca",
   "metadata": {},
   "outputs": [
    {
     "name": "stdout",
     "output_type": "stream",
     "text": [
      "[2, 4]\n"
     ]
    }
   ],
   "source": [
    "numbers = [1, 2, 3, 4, 5]\n",
    "even_numbers = filter(lambda x: x % 2 == 0, numbers)\n",
    "print(list(even_numbers))"
   ]
  },
  {
   "cell_type": "markdown",
   "id": "e46cdeef-b9f7-4033-8564-701d11d79d1f",
   "metadata": {},
   "source": [
    "# Practical Questions:"
   ]
  },
  {
   "cell_type": "markdown",
   "id": "9df8ed3d-a889-4dd6-aa62-6497d4496dcb",
   "metadata": {},
   "source": [
    "## 1. Write a Python function that takes a list of numbers as input and returns the sum of all even numbers in the list."
   ]
  },
  {
   "cell_type": "code",
   "execution_count": 44,
   "id": "291529bb-d233-455c-b03c-4b9589d3747c",
   "metadata": {},
   "outputs": [
    {
     "name": "stdout",
     "output_type": "stream",
     "text": [
      "12\n"
     ]
    }
   ],
   "source": [
    "def sum_of_even_numbers(numbers):\n",
    "    return sum(filter(lambda x: x % 2 == 0, numbers))\n",
    "\n",
    "numbers = [1, 2, 3, 4, 5, 6]\n",
    "result = sum_of_even_numbers(numbers)\n",
    "print(result)"
   ]
  },
  {
   "cell_type": "markdown",
   "id": "2878925e-9372-4561-93df-5f77a73664f4",
   "metadata": {},
   "source": [
    "## 2. Create a Python function that accepts a string and returns the reverse of that string."
   ]
  },
  {
   "cell_type": "code",
   "execution_count": 45,
   "id": "59a0dc4c-cf5f-4626-af8d-24a18bedf8a5",
   "metadata": {},
   "outputs": [
    {
     "name": "stdout",
     "output_type": "stream",
     "text": [
      "!dlroW ,olleH\n"
     ]
    }
   ],
   "source": [
    "def reverse_string(s):\n",
    "    return s[::-1]\n",
    "\n",
    "input_string = \"Hello, World!\"\n",
    "reversed_string = reverse_string(input_string)\n",
    "print(reversed_string)"
   ]
  },
  {
   "cell_type": "markdown",
   "id": "9847eb67-3368-4838-9acd-31ecaedac908",
   "metadata": {},
   "source": [
    "## 3. Implement a Python function that takes a list of integers and returns a new list containing the squares of each number."
   ]
  },
  {
   "cell_type": "code",
   "execution_count": 46,
   "id": "8dc02f89-3eb5-42a0-8a91-0fe1c9fbe119",
   "metadata": {},
   "outputs": [
    {
     "name": "stdout",
     "output_type": "stream",
     "text": [
      "[1, 4, 9, 16, 25]\n"
     ]
    }
   ],
   "source": [
    "def square_numbers(numbers):\n",
    "    return list(map(lambda x: x ** 2, numbers))\n",
    "\n",
    "input_list = [1, 2, 3, 4, 5]\n",
    "squared_list = square_numbers(input_list)\n",
    "print(squared_list)"
   ]
  },
  {
   "cell_type": "markdown",
   "id": "ab55940f-bed9-4138-bfb1-8712e57f1441",
   "metadata": {},
   "source": [
    "## 4. Write a Python function that checks if a given number is prime or not from 1 to 200."
   ]
  },
  {
   "cell_type": "code",
   "execution_count": 52,
   "id": "ac28a213-bc8c-4fb8-ac66-a4ad4c9ff56c",
   "metadata": {},
   "outputs": [
    {
     "name": "stdin",
     "output_type": "stream",
     "text": [
      "Enter number : 9\n"
     ]
    },
    {
     "name": "stdout",
     "output_type": "stream",
     "text": [
      "9 is not a prime number.\n"
     ]
    }
   ],
   "source": [
    "def is_prime(n):\n",
    "    if n <= 1:\n",
    "        return False\n",
    "    for i in range(2, int(n**0.5) + 1):\n",
    "        if n % i == 0:\n",
    "            return False\n",
    "    return True\n",
    "\n",
    "num = int(input(\"Enter number :\"))\n",
    "if is_prime(num):\n",
    "    print(f\"{num} is a prime number.\")\n",
    "else:\n",
    "    print(f\"{num} is not a prime number.\")"
   ]
  },
  {
   "cell_type": "markdown",
   "id": "4220f50d-6fdd-474a-9951-cd731d19955e",
   "metadata": {},
   "source": [
    "## 5. Create an iterator class in Python that generates the Fibonacci sequence up to a specified number of terms."
   ]
  },
  {
   "cell_type": "code",
   "execution_count": 80,
   "id": "b8c135ec-7d6b-4e7a-a053-45a6e12e5a69",
   "metadata": {},
   "outputs": [],
   "source": [
    "class FibonacciIterator:\n",
    "    def __init__(self, n_terms):\n",
    "        self.n_terms = n_terms  # number of terms to generate\n",
    "        self.current_term = 0   # current position in the sequence\n",
    "        self.a, self.b = 0, 1   # initial two terms of the Fibonacci sequence\n",
    "\n",
    "    def __iter__(self):\n",
    "        return self\n",
    "\n",
    "    def __next__(self):\n",
    "        if self.current_term >= self.n_terms:\n",
    "            raise StopIteration  # stop iteration after reaching the specified number of terms\n",
    "        if self.current_term == 0:\n",
    "            self.current_term += 1\n",
    "            return self.a\n",
    "        elif self.current_term == 1:\n",
    "            self.current_term += 1\n",
    "            return self.b\n",
    "        else:\n",
    "            self.a, self.b = self.b, self.a + self.b  # generate the next term\n",
    "            self.current_term += 1\n",
    "            return self.b"
   ]
  },
  {
   "cell_type": "code",
   "execution_count": 81,
   "id": "b2aaad85-a7b3-4242-804e-21f2eb471f10",
   "metadata": {},
   "outputs": [
    {
     "name": "stdout",
     "output_type": "stream",
     "text": [
      "0\n",
      "1\n",
      "1\n",
      "2\n",
      "3\n",
      "5\n",
      "8\n",
      "13\n",
      "21\n",
      "34\n"
     ]
    }
   ],
   "source": [
    "# Create an instance of FibonacciIterator with the desired number of terms\n",
    "fib_iterator = FibonacciIterator(10)\n",
    "\n",
    "# Iterate through the Fibonacci sequence\n",
    "for fib_number in fib_iterator:\n",
    "    print(fib_number)"
   ]
  },
  {
   "cell_type": "markdown",
   "id": "a3d136d7-05a0-40f1-9824-d32b3741946a",
   "metadata": {},
   "source": [
    "## 6. Write a generator function in Python that yields the powers of 2 up to a given exponent."
   ]
  },
  {
   "cell_type": "code",
   "execution_count": 84,
   "id": "3088d77a-119d-49a2-a980-3004cf67cbc4",
   "metadata": {},
   "outputs": [],
   "source": [
    "def powers_of_two(max_exponent):\n",
    "    for exponent in range(max_exponent + 1):\n",
    "        yield 2 ** exponent"
   ]
  },
  {
   "cell_type": "code",
   "execution_count": 85,
   "id": "9f6e7bd7-057f-49bf-86b4-c27c81b868de",
   "metadata": {},
   "outputs": [
    {
     "name": "stdout",
     "output_type": "stream",
     "text": [
      "1\n",
      "2\n",
      "4\n",
      "8\n",
      "16\n",
      "32\n"
     ]
    }
   ],
   "source": [
    "for power in powers_of_two(5):\n",
    "    print(power)"
   ]
  },
  {
   "cell_type": "markdown",
   "id": "00d3d9ba-4f5a-44cc-a140-65b1dbf45c2b",
   "metadata": {},
   "source": [
    "## 7. Implement a generator function that reads a file line by line and yields each line as a string."
   ]
  },
  {
   "cell_type": "code",
   "execution_count": 86,
   "id": "14f432f8-9131-4b87-ac42-35070430474c",
   "metadata": {},
   "outputs": [],
   "source": [
    "def read_file_line_by_line(file_path):\n",
    "    with open(file_path, 'r') as file:\n",
    "        for line in file:\n",
    "            yield line.strip()"
   ]
  },
  {
   "cell_type": "code",
   "execution_count": null,
   "id": "c7fda120-257a-4166-8320-5082b28ffa52",
   "metadata": {},
   "outputs": [],
   "source": [
    "file_path = 'example.txt'\n",
    "\n",
    "for line in read_file_line_by_line(file_path):\n",
    "    print(line)"
   ]
  },
  {
   "cell_type": "markdown",
   "id": "d3783570-2b97-43f5-9b50-a80ae125fdf1",
   "metadata": {},
   "source": [
    "## 8. Use a lambda function in Python to sort a list of tuples based on the second element of each tuple."
   ]
  },
  {
   "cell_type": "code",
   "execution_count": 89,
   "id": "e3999750-f75f-4cff-914e-651742447155",
   "metadata": {},
   "outputs": [
    {
     "name": "stdout",
     "output_type": "stream",
     "text": [
      "[(3, 2), (2, 3), (1, 5), (4, 8)]\n"
     ]
    }
   ],
   "source": [
    "# Sample list of tuples\n",
    "tuples_list = [(1, 5), (3, 2), (4, 8), (2, 3)]\n",
    "\n",
    "# Sort the list based on the second element of each tuple\n",
    "sorted_list = sorted(tuples_list, key=lambda x: x[1])\n",
    "\n",
    "# Print the sorted list\n",
    "print(sorted_list)"
   ]
  },
  {
   "cell_type": "markdown",
   "id": "8fb166c4-0c7d-4504-ad62-df9253e5144f",
   "metadata": {},
   "source": [
    "## 9. Write a Python program that uses `map()` to convert a list of temperatures from Celsius to Fahrenheit."
   ]
  },
  {
   "cell_type": "code",
   "execution_count": 90,
   "id": "a67ba8ed-153f-413e-a161-ea4a410df805",
   "metadata": {},
   "outputs": [
    {
     "name": "stdout",
     "output_type": "stream",
     "text": [
      "[32.0, 68.0, 98.6, 212.0]\n"
     ]
    }
   ],
   "source": [
    "# Function to convert Celsius to Fahrenheit\n",
    "def celsius_to_fahrenheit(celsius):\n",
    "    return (celsius * 9/5) + 32\n",
    "\n",
    "# List of temperatures in Celsius\n",
    "celsius_temps = [0, 20, 37, 100]\n",
    "\n",
    "# Use map to apply the conversion function to each element of the list\n",
    "fahrenheit_temps = list(map(celsius_to_fahrenheit, celsius_temps))\n",
    "\n",
    "# Print the converted temperatures in Fahrenheit\n",
    "print(fahrenheit_temps)"
   ]
  },
  {
   "cell_type": "markdown",
   "id": "a641839f-4088-4f69-90dc-5339ee3ab28b",
   "metadata": {},
   "source": [
    "## 10. Create a Python program that uses `filter()` to remove all the vowels from a given string."
   ]
  },
  {
   "cell_type": "code",
   "execution_count": 91,
   "id": "fd3b80a2-db88-4902-a2c7-ae48569cf89a",
   "metadata": {},
   "outputs": [
    {
     "name": "stdout",
     "output_type": "stream",
     "text": [
      "Hll, hw r y?\n"
     ]
    }
   ],
   "source": [
    "# Function to check if a character is a vowel\n",
    "def is_not_vowel(char):\n",
    "    vowels = 'aeiouAEIOU'\n",
    "    return char not in vowels\n",
    "\n",
    "# Input string\n",
    "input_string = \"Hello, how are you?\"\n",
    "\n",
    "# Use filter to remove vowels\n",
    "filtered_string = ''.join(filter(is_not_vowel, input_string))\n",
    "\n",
    "# Print the result\n",
    "print(filtered_string)"
   ]
  },
  {
   "cell_type": "markdown",
   "id": "4e50d6d9-babc-4095-a950-530bad1c9a6f",
   "metadata": {},
   "source": [
    "## Write a Python program, which returns a list with 2-tuples. Each tuple consists of the order number and the product of the price per item and the quantity. The product should be increased by 10,- € if the value of the order is smaller than 100,00 €.\n",
    "\n",
    "## Write a Python program using lambda and map"
   ]
  },
  {
   "cell_type": "code",
   "execution_count": 96,
   "id": "cd959b61-5385-4388-bbb8-14650a23f06e",
   "metadata": {},
   "outputs": [
    {
     "name": "stdout",
     "output_type": "stream",
     "text": [
      "[(34587, 29.8), (98762, 294.0), (77226, 108.85000000000001), (88112, 84.97)]\n"
     ]
    }
   ],
   "source": [
    "# Sample list of orders (Order number, price per item, quantity)\n",
    "orders = [\n",
    "    [34587, 4.95, 4],\n",
    "    [98762, 56.80, 5],\n",
    "    [77226, 32.95, 3],\n",
    "    [88112, 24.99, 3]\n",
    "]\n",
    "\n",
    "# Use map to process the orders\n",
    "# Each tuple consists of the order number and the total cost, applying the extra charge if needed\n",
    "order_totals = list(map(lambda x: (x[0], x[1] * x[2] +10 if x[1] * x[2] < 10000 else x[1] * x[2] ), orders))\n",
    "\n",
    "# Print the result\n",
    "print(order_totals)"
   ]
  },
  {
   "cell_type": "code",
   "execution_count": null,
   "id": "db868df0-837c-4d95-8478-ebde9304e9b2",
   "metadata": {},
   "outputs": [],
   "source": []
  }
 ],
 "metadata": {
  "kernelspec": {
   "display_name": "Python 3 (ipykernel)",
   "language": "python",
   "name": "python3"
  },
  "language_info": {
   "codemirror_mode": {
    "name": "ipython",
    "version": 3
   },
   "file_extension": ".py",
   "mimetype": "text/x-python",
   "name": "python",
   "nbconvert_exporter": "python",
   "pygments_lexer": "ipython3",
   "version": "3.12.5"
  }
 },
 "nbformat": 4,
 "nbformat_minor": 5
}
